{
 "cells": [
  {
   "cell_type": "code",
   "execution_count": 1,
   "metadata": {},
   "outputs": [
    {
     "name": "stdout",
     "output_type": "stream",
     "text": [
      "array([0.01116818, 0.00802366, 0.01107618, 0.0106638 , 0.00387511,\n",
      "       0.00413981, 0.01195099])\n",
      "array([413660.95116818, 413660.94802366, 413660.95107618, 413660.9506638 ,\n",
      "       413660.94387511, 413660.94413981, 413660.95195099])\n"
     ]
    }
   ],
   "source": [
    "import csv\n",
    "import numpy as np\n",
    "from pprint import pprint\n",
    "from sturdr.nav.ephemeris import GetNavStates\n",
    "from sturdr.nav.estimation import LeastSquares, LeastSquaresPos\n",
    "from sturdr.utils.constants import LIGHT_SPEED, GPS_L1CA_CARRIER_FREQ, GPS_L1CA_CODE_FREQ\n",
    "from sturdr.utils.coordinates import ecef2lla, eci2ecef\n",
    "from sturdr.dsp.discriminator import DllVariance\n",
    "\n",
    "BETA = LIGHT_SPEED / GPS_L1CA_CODE_FREQ\n",
    "LAMBDA = LIGHT_SPEED / GPS_L1CA_CARRIER_FREQ\n",
    "\n",
    "# PRN = [1, 7, 14, 17, 19, 21, 30]\n",
    "CNo = 10**(np.asarray([36.826, 41.229, 43.359, 36.599, 36.312, 43.221, 42.617])/10)\n",
    "ToW = 413660.94\n",
    "doppler = np.array([1790.1266367785295, -474.3815058289274, 3587.6279305533444, 3279.2840787000678, 5023.270101382448, -341.27711577144595, 1520.6863470836226])\n",
    "code_phase = np.array([11425.047804671016, 8208.201776750902, 11330.930299839343, 10909.063374637126, 3964.2406759900205, 4235.0250637613835, 12225.85874056617])\n",
    "code_phase_time = code_phase / GPS_L1CA_CODE_FREQ\n",
    "transmit_time = ToW + code_phase_time\n",
    "receive_time = transmit_time.max() + 0.068802 # common receive time/sample including transmit time\n",
    "tgd = np.zeros(7)\n",
    "ephem = {}\n",
    "\n",
    "with open(\"../results/GPS_L1CA_TEST_Ephemeris.csv\", \"r\") as file:\n",
    "    reader = csv.DictReader(file)\n",
    "    for i,item in enumerate(reader):\n",
    "        item.pop('id', None)\n",
    "        item.pop('iode', None)\n",
    "        item.pop('iodc', None)\n",
    "        item.pop('ura', None)\n",
    "        item.pop('health', None)\n",
    "        for k,v in item.items():\n",
    "            item[k] = np.float64(v)\n",
    "        item[\"transmit_time\"] = transmit_time[i]\n",
    "        ephem[i] = item\n",
    "# pprint(ephem[0])\n",
    "# pprint(ephem[0].keys())\n",
    "\n",
    "pprint(code_phase_time)\n",
    "pprint(transmit_time)"
   ]
  },
  {
   "cell_type": "code",
   "execution_count": 2,
   "metadata": {},
   "outputs": [],
   "source": [
    "sv_pos = np.zeros((7,3))\n",
    "# sv_pos_new = np.zeros((7,3))\n",
    "sv_vel = np.zeros((7,3))\n",
    "sv_clk = np.zeros((7,3))\n",
    "\n",
    "# get satellite positions based on transmit time\n",
    "for i in range(7):\n",
    "    sv_clk[i,:], sv_pos[i,:], sv_vel[i,:], _ = GetNavStates(**ephem[i])\n",
    "    # sv_pos_new[i,:] = CorrectEarthRotation(-(receive_time - transmit_time[i]), sv_pos[i,:])\n",
    "    tgd[i] = ephem[i]['tgd']\n",
    "# pprint(sv_pos - sv_pos_new)\n",
    "\n",
    "psr = (receive_time - transmit_time + sv_clk[:,0] + tgd) * LIGHT_SPEED\n",
    "psrdot = -LAMBDA * doppler + sv_clk[:,1] * LIGHT_SPEED\n",
    "\n",
    "# get corrected positions with new transmit time\n",
    "# new_transmit_time = receive_time - psr\n",
    "# for i in range(7):\n",
    "    # ephem[i]['transmit_time'] = new_transmit_time[i]\n",
    "    # sv_clk[i,:], sv_pos_new[i,:], sv_vel[i,:], _ = GetNavStates(**ephem[i])\n",
    "    # sv_pos_new[i,:] = eci2ecef(+psr[i], sv_pos_new[i,:])\n",
    "    # sv_pos_new[i,:] = eci2ecef(+psr[i], sv_pos[i,:])\n",
    "\n",
    "# pprint(transmit_time - new_transmit_time)\n",
    "# pprint(sv_pos - sv_pos_new)"
   ]
  },
  {
   "cell_type": "code",
   "execution_count": 4,
   "metadata": {},
   "outputs": [
    {
     "name": "stdout",
     "output_type": "stream",
     "text": [
      "lla_est = [ 32.58631234 -85.49442298 198.7709868 ]\n",
      "x_est   = [  422591.95  -5362865.971  3415499.054    67785.7  ]\n",
      "x1_est  = [  422591.95  -5362865.971  3415499.054    67785.7  ]\n",
      "x_true  = [  422596.629 -5362864.287  3415493.797]\n",
      "x1_vel  = [   0.008   -0.006   -0.01  -471.156]\n",
      "diff    = [ 4.679  1.684 -5.257], norm = 7.236322\n",
      "diff1   = [ 4.679  1.684 -5.257], norm = 7.236322\n",
      "psr     = [20921613. 21870201. 20887921. 21223797. 23134615. 23014302. 20468445.]\n",
      "r_true  = [20853843. 21802422. 20820137. 21156004. 23066809. 22946537. 20400653.]\n",
      "diff    = [-67769.42  -67779.035 -67783.307 -67793.725 -67806.355 -67765.198\n",
      " -67791.216]\n"
     ]
    }
   ],
   "source": [
    "R = np.diag(BETA**2 * DllVariance(CNo, 0.02))\n",
    "x, _, _ = LeastSquaresPos(sv_pos, psr, R, np.zeros(4))\n",
    "x1, _ = LeastSquares(sv_pos, sv_vel, psr, psrdot, CNo, np.zeros(8))\n",
    "true_x = np.asarray([422596.629, -5362864.287, 3415493.797])\n",
    "true_range = np.linalg.norm(true_x[...] - sv_pos, axis=1)\n",
    "\n",
    "np.set_printoptions(suppress=True)\n",
    "print(f\"lla_est = {np.array2string(ecef2lla(x[:3]), precision=8)}\")\n",
    "print(f\"x_est   = {np.array2string(x, precision=3)}\")\n",
    "print(f\"x1_est  = {np.array2string(x1[[0,1,2,6]], precision=3)}\")\n",
    "print(f\"x_true  = {np.array2string(true_x, precision=3)}\")\n",
    "print(f\"x1_vel  = {np.array2string(x1[[3,4,5,7]], precision=3)}\")\n",
    "print(f\"diff    = {np.array2string(true_x - x[:3], precision=3)}, norm = {np.array2string(np.linalg.norm(true_x - x[:3]), precision=6)}\")\n",
    "print(f\"diff1   = {np.array2string(true_x - x1[:3], precision=3)}, norm = {np.array2string(np.linalg.norm(true_x - x1[:3]), precision=6)}\")\n",
    "print(f\"psr     = {np.array2string(psr, precision=0)}\")\n",
    "print(f\"r_true  = {np.array2string(true_range, precision=0)}\")\n",
    "print(f\"diff    = {np.array2string(true_range - psr, precision=3)}\")"
   ]
  }
 ],
 "metadata": {
  "kernelspec": {
   "display_name": ".venv",
   "language": "python",
   "name": "python3"
  },
  "language_info": {
   "codemirror_mode": {
    "name": "ipython",
    "version": 3
   },
   "file_extension": ".py",
   "mimetype": "text/x-python",
   "name": "python",
   "nbconvert_exporter": "python",
   "pygments_lexer": "ipython3",
   "version": "3.12.6"
  }
 },
 "nbformat": 4,
 "nbformat_minor": 2
}
