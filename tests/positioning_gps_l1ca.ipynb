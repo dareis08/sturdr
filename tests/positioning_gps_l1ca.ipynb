{
 "cells": [
  {
   "cell_type": "code",
   "execution_count": 1,
   "metadata": {},
   "outputs": [
    {
     "name": "stdout",
     "output_type": "stream",
     "text": [
      "array([0.01116818, 0.00802366, 0.01107619, 0.0106638 , 0.00387511,\n",
      "       0.00413981, 0.01195099])\n",
      "array([413660.95116818, 413660.94802366, 413660.95107619, 413660.9506638 ,\n",
      "       413660.94387511, 413660.94413981, 413660.95195099])\n"
     ]
    }
   ],
   "source": [
    "import csv\n",
    "import numpy as np\n",
    "from pprint import pprint\n",
    "from sturdr.nav.ephemeris import GetNavStates\n",
    "from sturdr.nav.estimation import LeastSquares, LeastSquaresPos\n",
    "from sturdr.utils.constants import LIGHT_SPEED, GPS_L1CA_CARRIER_FREQ, GPS_L1CA_CODE_FREQ\n",
    "from sturdr.utils.coordinates import ecef2lla, eci2ecef\n",
    "from sturdr.dsp.discriminator import DllVariance\n",
    "\n",
    "BETA = LIGHT_SPEED / GPS_L1CA_CODE_FREQ\n",
    "LAMBDA = LIGHT_SPEED / GPS_L1CA_CARRIER_FREQ\n",
    "\n",
    "# PRN = [1, 7, 14, 17, 19, 21, 30]\n",
    "CNo = 10**(np.asarray([36.826, 41.229, 43.359, 36.599, 36.312, 43.221, 42.617])/10)\n",
    "# ToW = 413658.0\n",
    "# code_phase = np.array([11421.60386881124, 8209.110011406465, 11324.089926379798, 10902.806345747738, 3954.6763081617355, 4235.6660033346, 12222.95770424594])\n",
    "ToW = 413660.94\n",
    "code_phase = np.array([11425.045418898622, 8208.204583024342, 11330.938206410516, 10909.064860703384, 3964.2325959784534, 4235.030732526724, 12225.865036006284])\n",
    "code_phase_time = code_phase / GPS_L1CA_CODE_FREQ\n",
    "transmit_time = ToW + code_phase_time\n",
    "receive_time = transmit_time.max() + 0.068802 # common receive time/sample including transmit time\n",
    "tgd = np.zeros(7)\n",
    "ephem = {}\n",
    "\n",
    "with open(\"../results/GPS_L1CA_TEST_Ephemeris.csv\", \"r\") as file:\n",
    "    reader = csv.DictReader(file)\n",
    "    for i,item in enumerate(reader):\n",
    "        item.pop('id', None)\n",
    "        item.pop('iode', None)\n",
    "        item.pop('iodc', None)\n",
    "        item.pop('ura', None)\n",
    "        item.pop('health', None)\n",
    "        for k,v in item.items():\n",
    "            item[k] = np.float64(v)\n",
    "        item[\"transmit_time\"] = transmit_time[i]\n",
    "        ephem[i] = item\n",
    "# pprint(ephem[0])\n",
    "# pprint(ephem[0].keys())\n",
    "\n",
    "pprint(code_phase_time)\n",
    "pprint(transmit_time)"
   ]
  },
  {
   "cell_type": "code",
   "execution_count": 2,
   "metadata": {},
   "outputs": [
    {
     "name": "stdout",
     "output_type": "stream",
     "text": [
      "array([[ 84.2316896 ,  67.84338932,   0.        ],\n",
      "       [133.94239717,  35.31528757,   0.        ],\n",
      "       [ 79.33444347,  -8.60836604,   0.        ],\n",
      "       [109.54888063, -51.31422675,   0.        ],\n",
      "       [113.81410416, -96.80419314,   0.        ],\n",
      "       [ 41.4330354 ,  85.07465365,   0.        ],\n",
      "       [124.32760305,  -9.59882249,   0.        ]])\n"
     ]
    }
   ],
   "source": [
    "sv_pos = np.zeros((7,3))\n",
    "sv_pos_new = np.zeros((7,3))\n",
    "sv_vel = np.zeros((7,3))\n",
    "sv_clk = np.zeros((7,3))\n",
    "\n",
    "# get satellite positions based on transmit time\n",
    "for i in range(7):\n",
    "    sv_clk[i,:], sv_pos[i,:], sv_vel[i,:], _ = GetNavStates(**ephem[i])\n",
    "    # sv_pos_new[i,:] = CorrectEarthRotation(-(receive_time - transmit_time[i]), sv_pos[i,:])\n",
    "    tgd[i] = ephem[i]['tgd']\n",
    "# pprint(sv_pos - sv_pos_new)\n",
    "\n",
    "psr = (receive_time - transmit_time + sv_clk[:,0] + tgd)\n",
    "\n",
    "# get corrected positions with new transmit time\n",
    "# new_transmit_time = receive_time - psr\n",
    "for i in range(7):\n",
    "    # ephem[i]['transmit_time'] = new_transmit_time[i]\n",
    "    # sv_clk[i,:], sv_pos_new[i,:], sv_vel[i,:], _ = GetNavStates(**ephem[i])\n",
    "    # sv_pos_new[i,:] = eci2ecef(+psr[i], sv_pos_new[i,:])\n",
    "    sv_pos_new[i,:] = eci2ecef(+psr[i], sv_pos[i,:])\n",
    "\n",
    "# pprint(transmit_time - new_transmit_time)\n",
    "pprint(sv_pos - sv_pos_new)"
   ]
  },
  {
   "cell_type": "code",
   "execution_count": 3,
   "metadata": {},
   "outputs": [
    {
     "name": "stdout",
     "output_type": "stream",
     "text": [
      "lla_est = [ 32.58631296 -85.49441895 204.2527693 ]\n",
      "x_est   = [  422592.687 -5362870.509  3415502.064    67791.614]\n",
      "x_true  = [  422596.629 -5362864.287  3415493.797]\n",
      "diff    = [ 3.942  6.222 -8.267], norm = 11.072759\n",
      "psr     = [20921615. 21870202. 20887920. 21223799. 23134619. 23014302. 20468445.]\n",
      "r_true  = [20853828. 21802416. 20820141. 21156019. 23066833. 22946518. 20400658.]\n",
      "diff    = [-67787.691 -67786.152 -67779.027 -67779.933 -67785.989 -67784.498\n",
      " -67786.126]\n"
     ]
    }
   ],
   "source": [
    "R = np.diag(BETA**2 * DllVariance(CNo, 0.02))\n",
    "x, _, _ = LeastSquaresPos(sv_pos_new, psr * LIGHT_SPEED, R, np.zeros(4))\n",
    "true_x = np.asarray([422596.629, -5362864.287, 3415493.797])\n",
    "true_range = np.linalg.norm(true_x[...] - sv_pos_new, axis=1)\n",
    "\n",
    "print(f\"lla_est = {np.array2string(ecef2lla(x[:3]), precision=8)}\")\n",
    "print(f\"x_est   = {np.array2string(x, precision=3)}\")\n",
    "print(f\"x_true  = {np.array2string(true_x, precision=3)}\")\n",
    "print(f\"diff    = {np.array2string(true_x - x[:3], precision=3)}, norm = {np.array2string(np.linalg.norm(true_x - x[:3]), precision=6)}\")\n",
    "print(f\"psr     = {np.array2string(psr*LIGHT_SPEED, precision=0)}\")\n",
    "print(f\"r_true  = {np.array2string(true_range, precision=0)}\")\n",
    "print(f\"diff    = {np.array2string(true_range - psr*LIGHT_SPEED, precision=3)}\")"
   ]
  }
 ],
 "metadata": {
  "kernelspec": {
   "display_name": ".venv",
   "language": "python",
   "name": "python3"
  },
  "language_info": {
   "codemirror_mode": {
    "name": "ipython",
    "version": 3
   },
   "file_extension": ".py",
   "mimetype": "text/x-python",
   "name": "python",
   "nbconvert_exporter": "python",
   "pygments_lexer": "ipython3",
   "version": "3.12.6"
  }
 },
 "nbformat": 4,
 "nbformat_minor": 2
}
